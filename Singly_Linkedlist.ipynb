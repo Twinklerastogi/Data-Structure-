{
 "cells": [
  {
   "cell_type": "markdown",
   "metadata": {},
   "source": [
    "# Singly Linked list"
   ]
  },
  {
   "cell_type": "markdown",
   "metadata": {},
   "source": [
    "### Insert at start O(1)"
   ]
  },
  {
   "cell_type": "code",
   "execution_count": 2,
   "metadata": {},
   "outputs": [],
   "source": [
    "class Node(object):\n",
    "    def __init__(self, data):\n",
    "        self.data = data\n",
    "        self.nextnode = None\n",
    "        \n",
    "class Linkedlist(object):\n",
    "    def __init__(self):\n",
    "        self.head = None\n",
    "        self.size = 0\n",
    "        \n",
    "    #O(1) Insert at start\n",
    "    def insert_at_start(self, data):\n",
    "        self.size+=1\n",
    "        newNode = Node(data)\n",
    "        \n",
    "        if not self.head:\n",
    "            self.head=newNode\n",
    "        else:\n",
    "            newNode.nextnode = self.head\n",
    "            self.head = newNode\n",
    "            \n",
    "    #O(1)\n",
    "    def size0(self):\n",
    "        return self.size\n",
    "    \n",
    "    #O(n) not good\n",
    "    def size1(self):\n",
    "        current = self.head\n",
    "        len=0\n",
    "        while current is not None:\n",
    "            len+=1\n",
    "            current=current.nextnode\n",
    "        \n",
    "        return len"
   ]
  },
  {
   "cell_type": "markdown",
   "metadata": {},
   "source": [
    "### Insert at end O(n)"
   ]
  },
  {
   "cell_type": "code",
   "execution_count": 3,
   "metadata": {},
   "outputs": [],
   "source": [
    "class Node(object):\n",
    "    def __init__(self, data):\n",
    "        self.data = data\n",
    "        self.nextnode = None\n",
    "        \n",
    "class Linkedlist(object):\n",
    "    def __init__(self):\n",
    "        self.size=0\n",
    "        self.head=None\n",
    "    \n",
    "    def insert_at_end(self, data):\n",
    "        self.size+=1\n",
    "        newnode=Node(data)\n",
    "        \n",
    "        if not self.head:\n",
    "            self.head = newnode\n",
    "        else:\n",
    "            current = self.head\n",
    "            while current.nextnode is not None:\n",
    "                current = current.nextnode\n",
    "                \n",
    "            current.nextnode = newnode\n",
    "            newnode.nextnode=None\n",
    "            \n",
    "    def display(self):\n",
    "        current = self.head\n",
    "        while current is not None:\n",
    "            print(current.data, end=' ')\n",
    "            current = current.nextnode\n",
    "        #print(self.head)\n",
    "        \n",
    "        "
   ]
  },
  {
   "cell_type": "markdown",
   "metadata": {},
   "source": [
    "### Remove method"
   ]
  },
  {
   "cell_type": "code",
   "execution_count": 4,
   "metadata": {},
   "outputs": [],
   "source": [
    "class Node(object):\n",
    "    def __init__(self, data):\n",
    "        self.data = data\n",
    "        self.nextnode = None\n",
    "        \n",
    "class Linkedlist(object):\n",
    "    def __init__(self):\n",
    "        self.size = 0\n",
    "        self.head = None\n",
    "        \n",
    "    def insert(self, data):\n",
    "        self.size+=1\n",
    "        newnode = Node(data)\n",
    "        \n",
    "        if not self.head:\n",
    "            self.head = newnode\n",
    "        else:\n",
    "            cur = self.head\n",
    "            while cur.nextnode is not None:\n",
    "                cur = cur.nextnode\n",
    "                \n",
    "            cur.nextnode = newnode\n",
    "            newnode.nextnode = None\n",
    "            \n",
    "    def traverse(self):\n",
    "        if self.size == 1:\n",
    "            print(self.head.data)\n",
    "        elif self.size==0:\n",
    "            print(None)\n",
    "            \n",
    "        else:\n",
    "            cur = self.head\n",
    "            while cur is not None:\n",
    "                print(cur.data, end=' ')\n",
    "                cur=cur.nextnode\n",
    "            print()\n",
    "                \n",
    "    def remove(self, info):\n",
    "        #store head node\n",
    "        temp = self.head\n",
    "        \n",
    "        #if head node itself holds the key to be deleted\n",
    "        if temp is not None:\n",
    "            if temp.data == info:\n",
    "                self.head = temp.nextnode\n",
    "                #self.size-=self.size\n",
    "                temp=None\n",
    "                return\n",
    "        #Search for the key to be deleted, keep track of the previous node\n",
    "        #we need to change prev.next\n",
    "        while(temp is not None):\n",
    "            if temp.data == info:\n",
    "                break\n",
    "            prev = temp\n",
    "            temp = temp.nextnode\n",
    "            \n",
    "        #if key was not found\n",
    "        if temp == None:\n",
    "            return\n",
    "        #Unlike the node present\n",
    "        prev.nextnode = temp.nextnode\n",
    "        #self.size-=self.size\n",
    "        \n",
    "        temp = None\n",
    "      \n",
    "            \n",
    "    def sizee(self):\n",
    "        print(self.size)\n",
    "        \n",
    "                "
   ]
  },
  {
   "cell_type": "markdown",
   "metadata": {},
   "source": [
    "### Deleting node at specified position"
   ]
  },
  {
   "cell_type": "code",
   "execution_count": 6,
   "metadata": {},
   "outputs": [
    {
     "name": "stdout",
     "output_type": "stream",
     "text": [
      "No of nodes3\n",
      "1\n",
      "2\n",
      "3\n",
      "2\n",
      "3 2 \n"
     ]
    }
   ],
   "source": [
    "class Node(object):\n",
    "    def __init__(self, data):\n",
    "        self.data = data\n",
    "        self.next = None\n",
    "        \n",
    "class linkedlist(object):\n",
    "    def __init__(self):\n",
    "        self.head = None\n",
    "        \n",
    "    def insert_at_beg(self, data):\n",
    "        newnode = Node(data)\n",
    "        if not self.head:\n",
    "            self.head = newnode\n",
    "        \n",
    "        else:\n",
    "            newnode.next = self.head\n",
    "            self.head = newnode\n",
    "            \n",
    "            \n",
    "    def traverse(self):\n",
    "        temp = self.head\n",
    "        while temp:\n",
    "            print(temp.data, end=' ')\n",
    "            temp=temp.next\n",
    "        \n",
    "            \n",
    "            \n",
    "def dlt_at_k(head, position):\n",
    "    temp = head\n",
    "    if position == 0:\n",
    "        return head.next\n",
    "    else:\n",
    "        prev = None\n",
    "        temp = head\n",
    "        pos = 0\n",
    "        while(pos<position) and (temp.next is not None):\n",
    "            prev = temp\n",
    "            temp = temp.next\n",
    "            pos+=1\n",
    "        prev.next = temp.next\n",
    "    return head\n",
    "    \n",
    "    \n",
    "obj = linkedlist()\n",
    "c=int(input('No of nodes'))\n",
    "for i in range(c):\n",
    "    p=int(input())\n",
    "    obj.insert_at_beg(p)\n",
    "\n",
    "position = int(input())\n",
    "\n",
    "\n",
    "\n",
    "llist = dlt_at_k(obj.head, position)\n",
    "\n",
    "obj.traverse()\n",
    "print()\n",
    "        \n",
    "\n",
    "        "
   ]
  },
  {
   "cell_type": "markdown",
   "metadata": {},
   "source": [
    "## Reverse a linked list"
   ]
  },
  {
   "cell_type": "markdown",
   "metadata": {},
   "source": [
    "### Itrative method (by loops)\n",
    "We traverse whole list and adjust the link part, refer prev instead of next at each node"
   ]
  },
  {
   "cell_type": "code",
   "execution_count": 7,
   "metadata": {},
   "outputs": [],
   "source": [
    "class Node(object):\n",
    "    def __init__(self, data):\n",
    "        self.data = data\n",
    "        self.next = None\n",
    "        \n",
    "class Linked(object):\n",
    "    def __init__(self):\n",
    "        self.head = None\n",
    "        \n",
    "    def insert_at_beg(self, data):\n",
    "        newnode = Node(data)\n",
    "        if not self.head:\n",
    "            self.head = newnode\n",
    "        \n",
    "        else:\n",
    "            newnode.next = self.head\n",
    "            self.head = newnode\n",
    "        \n",
    "    def reverse(self):\n",
    "        current = self.head\n",
    "        prev = None\n",
    "        nex = None\n",
    "        while current is not None:\n",
    "            nex = current.next #storing next address otherwise link must be lost\n",
    "            current.next = prev\n",
    "            prev = current\n",
    "            current = nex    #similar as current.next we use extra var bcz in above statement we lost our link\n",
    "        \n",
    "        self.head = prev #new head\n",
    "        #return head\n",
    "        \n",
    "        \n",
    "    def traverse(self):\n",
    "        \n",
    "        temp = self.head\n",
    "        while temp is not None:\n",
    "            print(temp.data, end=' ')\n",
    "            temp = temp.next\n",
    "            \n",
    "        print()\n",
    "        \n",
    "            \n",
    "            \n",
    "        "
   ]
  },
  {
   "cell_type": "markdown",
   "metadata": {},
   "source": [
    "## Printing linked list using recursion"
   ]
  },
  {
   "cell_type": "markdown",
   "metadata": {},
   "source": [
    "### Forward Direction"
   ]
  },
  {
   "cell_type": "code",
   "execution_count": 8,
   "metadata": {},
   "outputs": [],
   "source": [
    "def forward(head):\n",
    "    cur = head\n",
    "    if not cur:\n",
    "        return\n",
    "    else:\n",
    "        print(cur.data)\n",
    "        forward(cur.next)\n",
    "    "
   ]
  },
  {
   "cell_type": "markdown",
   "metadata": {},
   "source": [
    "### Reverse Direction"
   ]
  },
  {
   "cell_type": "code",
   "execution_count": 9,
   "metadata": {},
   "outputs": [],
   "source": [
    "def reverse_print(head):\n",
    "    cur = head\n",
    "    if not cur:\n",
    "        return\n",
    "    \n",
    "    else:\n",
    "        reverse_print(cur.next)\n",
    "        print(cur.data)"
   ]
  },
  {
   "cell_type": "markdown",
   "metadata": {},
   "source": [
    "## Detect a cycle in linked list"
   ]
  },
  {
   "cell_type": "code",
   "execution_count": 10,
   "metadata": {},
   "outputs": [],
   "source": [
    "def has_cycle(head):\n",
    "    s=set()\n",
    "    temp = head\n",
    "\n",
    "    while(temp):\n",
    "        if temp in s:\n",
    "            return(1)\n",
    "\n",
    "        s.add(temp)\n",
    "        temp = temp.next\n",
    "    return(0)"
   ]
  },
  {
   "cell_type": "markdown",
   "metadata": {},
   "source": [
    "## Merging point of two linked list"
   ]
  },
  {
   "cell_type": "code",
   "execution_count": 11,
   "metadata": {},
   "outputs": [],
   "source": [
    "def findMergeNode(head1, head2):\n",
    "    currentA = head1;\n",
    "    currentB = head2;\n",
    "\n",
    "  \n",
    "    while(currentA != currentB):\n",
    "        \n",
    "        if(currentA.next == None):\n",
    "            currentA = head2;\n",
    "        else:\n",
    "            currentA = currentA.next;\n",
    "        \n",
    "        \n",
    "        if(currentB.next == None):\n",
    "            currentB = head1;\n",
    "        else:\n",
    "            currentB = currentB.next;\n",
    "        \n",
    "    \n",
    "    return currentB.data;"
   ]
  }
 ],
 "metadata": {
  "kernelspec": {
   "display_name": "Python 3",
   "language": "python",
   "name": "python3"
  },
  "language_info": {
   "codemirror_mode": {
    "name": "ipython",
    "version": 3
   },
   "file_extension": ".py",
   "mimetype": "text/x-python",
   "name": "python",
   "nbconvert_exporter": "python",
   "pygments_lexer": "ipython3",
   "version": "3.7.3"
  }
 },
 "nbformat": 4,
 "nbformat_minor": 2
}
